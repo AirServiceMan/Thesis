{
 "cells": [
  {
   "cell_type": "code",
   "execution_count": 1,
   "id": "3f06ddf2",
   "metadata": {},
   "outputs": [],
   "source": [
    "import yfinance as yf\n",
    "from sklearn.preprocessing import MinMaxScaler\n",
    "import pandas as pd\n",
    "import numpy as np\n",
    "import torch\n",
    "import torch.nn as nn\n",
    "import torch.optim as optim\n",
    "from torch.utils.data import Dataset,DataLoader,TensorDataset\n",
    "from tqdm import notebook\n",
    "import matplotlib.pyplot as plt\n",
    "from torchsummary import summary\n",
    "import torch.nn.functional as F\n",
    "import seaborn as sns\n",
    "from sklearn.model_selection import train_test_split"
   ]
  },
  {
   "cell_type": "code",
   "execution_count": 2,
   "id": "b000e8ba",
   "metadata": {},
   "outputs": [],
   "source": [
    "device = 'mps:0' if torch.backends.mps.is_available else 'cpu'"
   ]
  },
  {
   "cell_type": "code",
   "execution_count": 3,
   "id": "e09747a4",
   "metadata": {},
   "outputs": [
    {
     "name": "stderr",
     "output_type": "stream",
     "text": [
      "[*********************100%%**********************]  1 of 1 completed\n",
      "[*********************100%%**********************]  1 of 1 completed\n"
     ]
    }
   ],
   "source": [
    "start_time = '2010-01-01'\n",
    "end_time   = '2024-03-31'\n",
    "\n",
    "samsung = yf.download('005930.KS',start_time,end_time)\n",
    "kospi   = yf.download('^KS11',start_time,end_time)"
   ]
  },
  {
   "cell_type": "code",
   "execution_count": 4,
   "id": "ce2208e2",
   "metadata": {},
   "outputs": [
    {
     "data": {
      "text/plain": [
       "Date\n",
       "2010-01-04    0.018628\n",
       "2010-01-05    0.021871\n",
       "2010-01-06    0.032364\n",
       "2010-01-07    0.067715\n",
       "2010-01-08    0.026928\n",
       "                ...   \n",
       "2024-03-25    0.043120\n",
       "2024-03-26    0.013797\n",
       "2024-03-27    0.017599\n",
       "2024-03-28    0.039950\n",
       "2024-03-29    0.034251\n",
       "Length: 3511, dtype: float64"
      ]
     },
     "execution_count": 4,
     "metadata": {},
     "output_type": "execute_result"
    }
   ],
   "source": [
    "samsung_=samsung.drop(columns=['Volume','Adj Close'])\n",
    "samsung_mean = pd.DataFrame()\n",
    "samsung_mean['mean'] = samsung_.mean(axis=1)\n",
    "subtract = samsung_.apply(lambda x: x.sub(samsung_mean['mean'],axis=0))\n",
    "samsung_mean_4columns = np.abs(subtract).sum(axis=1)/samsung_mean['mean']\n",
    "samsung_mean_4columns"
   ]
  },
  {
   "cell_type": "code",
   "execution_count": 5,
   "id": "dc466375",
   "metadata": {},
   "outputs": [
    {
     "data": {
      "text/plain": [
       "Date\n",
       "2010-01-04    0.017088\n",
       "2010-01-05    0.015891\n",
       "2010-01-06    0.010714\n",
       "2010-01-07    0.025920\n",
       "2010-01-08    0.023117\n",
       "                ...   \n",
       "2024-03-25    0.018545\n",
       "2024-03-26    0.013113\n",
       "2024-03-27    0.009863\n",
       "2024-03-28    0.007848\n",
       "2024-03-29    0.010570\n",
       "Length: 3509, dtype: float64"
      ]
     },
     "execution_count": 5,
     "metadata": {},
     "output_type": "execute_result"
    }
   ],
   "source": [
    "Kospi_=kospi.drop(columns=['Volume','Adj Close'])\n",
    "Kospi_mean = pd.DataFrame()\n",
    "Kospi_mean['mean'] = Kospi_.mean(axis=1)\n",
    "subtract = Kospi_.apply(lambda x: x.sub(Kospi_mean['mean'],axis=0))\n",
    "Kospi_mean_4columns = np.abs(subtract).sum(axis=1)/Kospi_mean['mean']\n",
    "Kospi_mean_4columns"
   ]
  },
  {
   "cell_type": "code",
   "execution_count": 6,
   "id": "c0147404",
   "metadata": {},
   "outputs": [],
   "source": [
    "df_name = kospi.columns\n",
    "rename = ['kospi_' + x for x in df_name]\n",
    "kospi.columns = rename"
   ]
  },
  {
   "cell_type": "code",
   "execution_count": 7,
   "id": "dc93f75e",
   "metadata": {},
   "outputs": [
    {
     "data": {
      "text/html": [
       "<div>\n",
       "<style scoped>\n",
       "    .dataframe tbody tr th:only-of-type {\n",
       "        vertical-align: middle;\n",
       "    }\n",
       "\n",
       "    .dataframe tbody tr th {\n",
       "        vertical-align: top;\n",
       "    }\n",
       "\n",
       "    .dataframe thead th {\n",
       "        text-align: right;\n",
       "    }\n",
       "</style>\n",
       "<table border=\"1\" class=\"dataframe\">\n",
       "  <thead>\n",
       "    <tr style=\"text-align: right;\">\n",
       "      <th></th>\n",
       "      <th>Open</th>\n",
       "      <th>High</th>\n",
       "      <th>Low</th>\n",
       "      <th>Close</th>\n",
       "      <th>Adj Close</th>\n",
       "      <th>Volume</th>\n",
       "      <th>kospi_Open</th>\n",
       "      <th>kospi_High</th>\n",
       "      <th>kospi_Low</th>\n",
       "      <th>kospi_Close</th>\n",
       "      <th>kospi_Adj Close</th>\n",
       "      <th>kospi_Volume</th>\n",
       "    </tr>\n",
       "    <tr>\n",
       "      <th>Date</th>\n",
       "      <th></th>\n",
       "      <th></th>\n",
       "      <th></th>\n",
       "      <th></th>\n",
       "      <th></th>\n",
       "      <th></th>\n",
       "      <th></th>\n",
       "      <th></th>\n",
       "      <th></th>\n",
       "      <th></th>\n",
       "      <th></th>\n",
       "      <th></th>\n",
       "    </tr>\n",
       "  </thead>\n",
       "  <tbody>\n",
       "    <tr>\n",
       "      <th>2010-01-04</th>\n",
       "      <td>16060.0</td>\n",
       "      <td>16180.0</td>\n",
       "      <td>16000.0</td>\n",
       "      <td>16180.0</td>\n",
       "      <td>12274.591797</td>\n",
       "      <td>11950800</td>\n",
       "      <td>1681.709961</td>\n",
       "      <td>1696.140015</td>\n",
       "      <td>1681.709961</td>\n",
       "      <td>1696.140015</td>\n",
       "      <td>1696.140015</td>\n",
       "      <td>296500.0</td>\n",
       "    </tr>\n",
       "    <tr>\n",
       "      <th>2010-01-05</th>\n",
       "      <td>16520.0</td>\n",
       "      <td>16580.0</td>\n",
       "      <td>16300.0</td>\n",
       "      <td>16440.0</td>\n",
       "      <td>12471.835938</td>\n",
       "      <td>27925850</td>\n",
       "      <td>1701.619995</td>\n",
       "      <td>1702.390015</td>\n",
       "      <td>1686.449951</td>\n",
       "      <td>1690.619995</td>\n",
       "      <td>1690.619995</td>\n",
       "      <td>408900.0</td>\n",
       "    </tr>\n",
       "    <tr>\n",
       "      <th>2010-01-06</th>\n",
       "      <td>16580.0</td>\n",
       "      <td>16820.0</td>\n",
       "      <td>16520.0</td>\n",
       "      <td>16820.0</td>\n",
       "      <td>12760.111328</td>\n",
       "      <td>22948850</td>\n",
       "      <td>1697.880005</td>\n",
       "      <td>1706.890015</td>\n",
       "      <td>1696.099976</td>\n",
       "      <td>1705.319946</td>\n",
       "      <td>1705.319946</td>\n",
       "      <td>426000.0</td>\n",
       "    </tr>\n",
       "    <tr>\n",
       "      <th>2010-01-07</th>\n",
       "      <td>16820.0</td>\n",
       "      <td>16820.0</td>\n",
       "      <td>16260.0</td>\n",
       "      <td>16260.0</td>\n",
       "      <td>12335.281250</td>\n",
       "      <td>22107950</td>\n",
       "      <td>1702.920044</td>\n",
       "      <td>1707.900024</td>\n",
       "      <td>1683.449951</td>\n",
       "      <td>1683.449951</td>\n",
       "      <td>1683.449951</td>\n",
       "      <td>462400.0</td>\n",
       "    </tr>\n",
       "    <tr>\n",
       "      <th>2010-01-08</th>\n",
       "      <td>16400.0</td>\n",
       "      <td>16420.0</td>\n",
       "      <td>16120.0</td>\n",
       "      <td>16420.0</td>\n",
       "      <td>12456.663086</td>\n",
       "      <td>14777550</td>\n",
       "      <td>1694.060059</td>\n",
       "      <td>1695.260010</td>\n",
       "      <td>1668.839966</td>\n",
       "      <td>1695.260010</td>\n",
       "      <td>1695.260010</td>\n",
       "      <td>380000.0</td>\n",
       "    </tr>\n",
       "    <tr>\n",
       "      <th>...</th>\n",
       "      <td>...</td>\n",
       "      <td>...</td>\n",
       "      <td>...</td>\n",
       "      <td>...</td>\n",
       "      <td>...</td>\n",
       "      <td>...</td>\n",
       "      <td>...</td>\n",
       "      <td>...</td>\n",
       "      <td>...</td>\n",
       "      <td>...</td>\n",
       "      <td>...</td>\n",
       "      <td>...</td>\n",
       "    </tr>\n",
       "    <tr>\n",
       "      <th>2024-03-25</th>\n",
       "      <td>79600.0</td>\n",
       "      <td>79800.0</td>\n",
       "      <td>77800.0</td>\n",
       "      <td>78200.0</td>\n",
       "      <td>77500.570312</td>\n",
       "      <td>18703996</td>\n",
       "      <td>2756.590088</td>\n",
       "      <td>2763.629883</td>\n",
       "      <td>2731.699951</td>\n",
       "      <td>2737.570068</td>\n",
       "      <td>2737.570068</td>\n",
       "      <td>489600.0</td>\n",
       "    </tr>\n",
       "    <tr>\n",
       "      <th>2024-03-26</th>\n",
       "      <td>79700.0</td>\n",
       "      <td>80100.0</td>\n",
       "      <td>79200.0</td>\n",
       "      <td>79900.0</td>\n",
       "      <td>79185.367188</td>\n",
       "      <td>30551494</td>\n",
       "      <td>2756.419922</td>\n",
       "      <td>2779.399902</td>\n",
       "      <td>2752.270020</td>\n",
       "      <td>2757.090088</td>\n",
       "      <td>2757.090088</td>\n",
       "      <td>448300.0</td>\n",
       "    </tr>\n",
       "    <tr>\n",
       "      <th>2024-03-27</th>\n",
       "      <td>79200.0</td>\n",
       "      <td>80000.0</td>\n",
       "      <td>79200.0</td>\n",
       "      <td>79800.0</td>\n",
       "      <td>79086.257812</td>\n",
       "      <td>17424595</td>\n",
       "      <td>2745.000000</td>\n",
       "      <td>2762.030029</td>\n",
       "      <td>2745.000000</td>\n",
       "      <td>2755.110107</td>\n",
       "      <td>2755.110107</td>\n",
       "      <td>510600.0</td>\n",
       "    </tr>\n",
       "    <tr>\n",
       "      <th>2024-03-28</th>\n",
       "      <td>79400.0</td>\n",
       "      <td>81000.0</td>\n",
       "      <td>79200.0</td>\n",
       "      <td>80800.0</td>\n",
       "      <td>80441.218750</td>\n",
       "      <td>25084812</td>\n",
       "      <td>2753.219971</td>\n",
       "      <td>2756.860107</td>\n",
       "      <td>2742.679932</td>\n",
       "      <td>2745.820068</td>\n",
       "      <td>2745.820068</td>\n",
       "      <td>419300.0</td>\n",
       "    </tr>\n",
       "    <tr>\n",
       "      <th>2024-03-29</th>\n",
       "      <td>81200.0</td>\n",
       "      <td>82500.0</td>\n",
       "      <td>80900.0</td>\n",
       "      <td>82400.0</td>\n",
       "      <td>82034.117188</td>\n",
       "      <td>27126366</td>\n",
       "      <td>2757.270020</td>\n",
       "      <td>2757.550049</td>\n",
       "      <td>2739.120117</td>\n",
       "      <td>2746.629883</td>\n",
       "      <td>2746.629883</td>\n",
       "      <td>495500.0</td>\n",
       "    </tr>\n",
       "  </tbody>\n",
       "</table>\n",
       "<p>3511 rows × 12 columns</p>\n",
       "</div>"
      ],
      "text/plain": [
       "               Open     High      Low    Close     Adj Close    Volume  \\\n",
       "Date                                                                     \n",
       "2010-01-04  16060.0  16180.0  16000.0  16180.0  12274.591797  11950800   \n",
       "2010-01-05  16520.0  16580.0  16300.0  16440.0  12471.835938  27925850   \n",
       "2010-01-06  16580.0  16820.0  16520.0  16820.0  12760.111328  22948850   \n",
       "2010-01-07  16820.0  16820.0  16260.0  16260.0  12335.281250  22107950   \n",
       "2010-01-08  16400.0  16420.0  16120.0  16420.0  12456.663086  14777550   \n",
       "...             ...      ...      ...      ...           ...       ...   \n",
       "2024-03-25  79600.0  79800.0  77800.0  78200.0  77500.570312  18703996   \n",
       "2024-03-26  79700.0  80100.0  79200.0  79900.0  79185.367188  30551494   \n",
       "2024-03-27  79200.0  80000.0  79200.0  79800.0  79086.257812  17424595   \n",
       "2024-03-28  79400.0  81000.0  79200.0  80800.0  80441.218750  25084812   \n",
       "2024-03-29  81200.0  82500.0  80900.0  82400.0  82034.117188  27126366   \n",
       "\n",
       "             kospi_Open   kospi_High    kospi_Low  kospi_Close  \\\n",
       "Date                                                             \n",
       "2010-01-04  1681.709961  1696.140015  1681.709961  1696.140015   \n",
       "2010-01-05  1701.619995  1702.390015  1686.449951  1690.619995   \n",
       "2010-01-06  1697.880005  1706.890015  1696.099976  1705.319946   \n",
       "2010-01-07  1702.920044  1707.900024  1683.449951  1683.449951   \n",
       "2010-01-08  1694.060059  1695.260010  1668.839966  1695.260010   \n",
       "...                 ...          ...          ...          ...   \n",
       "2024-03-25  2756.590088  2763.629883  2731.699951  2737.570068   \n",
       "2024-03-26  2756.419922  2779.399902  2752.270020  2757.090088   \n",
       "2024-03-27  2745.000000  2762.030029  2745.000000  2755.110107   \n",
       "2024-03-28  2753.219971  2756.860107  2742.679932  2745.820068   \n",
       "2024-03-29  2757.270020  2757.550049  2739.120117  2746.629883   \n",
       "\n",
       "            kospi_Adj Close  kospi_Volume  \n",
       "Date                                       \n",
       "2010-01-04      1696.140015      296500.0  \n",
       "2010-01-05      1690.619995      408900.0  \n",
       "2010-01-06      1705.319946      426000.0  \n",
       "2010-01-07      1683.449951      462400.0  \n",
       "2010-01-08      1695.260010      380000.0  \n",
       "...                     ...           ...  \n",
       "2024-03-25      2737.570068      489600.0  \n",
       "2024-03-26      2757.090088      448300.0  \n",
       "2024-03-27      2755.110107      510600.0  \n",
       "2024-03-28      2745.820068      419300.0  \n",
       "2024-03-29      2746.629883      495500.0  \n",
       "\n",
       "[3511 rows x 12 columns]"
      ]
     },
     "execution_count": 7,
     "metadata": {},
     "output_type": "execute_result"
    }
   ],
   "source": [
    "df = pd.concat([samsung,kospi],axis=1)\n",
    "df"
   ]
  },
  {
   "cell_type": "code",
   "execution_count": 8,
   "id": "188af603",
   "metadata": {},
   "outputs": [],
   "source": [
    "df['fluctuation']       = samsung_mean_4columns\n",
    "df['kospi_fluctuation'] = Kospi_mean_4columns"
   ]
  },
  {
   "cell_type": "code",
   "execution_count": 9,
   "id": "fff8825a",
   "metadata": {},
   "outputs": [],
   "source": [
    "df = df.fillna(df.mean())"
   ]
  },
  {
   "cell_type": "code",
   "execution_count": 10,
   "id": "cb5d3888",
   "metadata": {},
   "outputs": [],
   "source": [
    "label_number = np.arange(0,10)\n",
    "label_list   = []"
   ]
  },
  {
   "cell_type": "code",
   "execution_count": 11,
   "id": "50562e52",
   "metadata": {},
   "outputs": [],
   "source": [
    "label_np= np.zeros(len(df))\n",
    "\n",
    "for i in range(1,len(df)):\n",
    "    label_np[i] = np.where(df['Close'].iloc[i]>df['Close'].iloc[i-1],1,0)"
   ]
  },
  {
   "cell_type": "code",
   "execution_count": 12,
   "id": "d91659a0",
   "metadata": {},
   "outputs": [],
   "source": [
    "df['label']=label_np"
   ]
  },
  {
   "cell_type": "code",
   "execution_count": 13,
   "id": "2cc1d10d",
   "metadata": {},
   "outputs": [
    {
     "data": {
      "text/plain": [
       "Date\n",
       "2010-01-04    0.0\n",
       "2010-01-05    1.0\n",
       "2010-01-06    1.0\n",
       "2010-01-07    0.0\n",
       "2010-01-08    1.0\n",
       "             ... \n",
       "2024-03-25    0.0\n",
       "2024-03-26    1.0\n",
       "2024-03-27    0.0\n",
       "2024-03-28    1.0\n",
       "2024-03-29    1.0\n",
       "Name: label, Length: 3511, dtype: float64"
      ]
     },
     "execution_count": 13,
     "metadata": {},
     "output_type": "execute_result"
    }
   ],
   "source": [
    "df['label']"
   ]
  },
  {
   "cell_type": "code",
   "execution_count": 14,
   "id": "1882c48f",
   "metadata": {},
   "outputs": [
    {
     "data": {
      "text/html": [
       "<div>\n",
       "<style scoped>\n",
       "    .dataframe tbody tr th:only-of-type {\n",
       "        vertical-align: middle;\n",
       "    }\n",
       "\n",
       "    .dataframe tbody tr th {\n",
       "        vertical-align: top;\n",
       "    }\n",
       "\n",
       "    .dataframe thead th {\n",
       "        text-align: right;\n",
       "    }\n",
       "</style>\n",
       "<table border=\"1\" class=\"dataframe\">\n",
       "  <thead>\n",
       "    <tr style=\"text-align: right;\">\n",
       "      <th></th>\n",
       "      <th>Open</th>\n",
       "      <th>High</th>\n",
       "      <th>Low</th>\n",
       "      <th>Close</th>\n",
       "      <th>Adj Close</th>\n",
       "      <th>Volume</th>\n",
       "      <th>kospi_Open</th>\n",
       "      <th>kospi_High</th>\n",
       "      <th>kospi_Low</th>\n",
       "      <th>kospi_Close</th>\n",
       "      <th>kospi_Adj Close</th>\n",
       "      <th>kospi_Volume</th>\n",
       "      <th>fluctuation</th>\n",
       "      <th>kospi_fluctuation</th>\n",
       "      <th>label</th>\n",
       "    </tr>\n",
       "    <tr>\n",
       "      <th>Date</th>\n",
       "      <th></th>\n",
       "      <th></th>\n",
       "      <th></th>\n",
       "      <th></th>\n",
       "      <th></th>\n",
       "      <th></th>\n",
       "      <th></th>\n",
       "      <th></th>\n",
       "      <th></th>\n",
       "      <th></th>\n",
       "      <th></th>\n",
       "      <th></th>\n",
       "      <th></th>\n",
       "      <th></th>\n",
       "      <th></th>\n",
       "    </tr>\n",
       "  </thead>\n",
       "  <tbody>\n",
       "    <tr>\n",
       "      <th>2010-01-04</th>\n",
       "      <td>16060.0</td>\n",
       "      <td>16180.0</td>\n",
       "      <td>16000.0</td>\n",
       "      <td>16180.0</td>\n",
       "      <td>12274.591797</td>\n",
       "      <td>11950800</td>\n",
       "      <td>1681.709961</td>\n",
       "      <td>1696.140015</td>\n",
       "      <td>1681.709961</td>\n",
       "      <td>1696.140015</td>\n",
       "      <td>1696.140015</td>\n",
       "      <td>296500.0</td>\n",
       "      <td>0.018628</td>\n",
       "      <td>0.017088</td>\n",
       "      <td>0.0</td>\n",
       "    </tr>\n",
       "    <tr>\n",
       "      <th>2010-01-05</th>\n",
       "      <td>16520.0</td>\n",
       "      <td>16580.0</td>\n",
       "      <td>16300.0</td>\n",
       "      <td>16440.0</td>\n",
       "      <td>12471.835938</td>\n",
       "      <td>27925850</td>\n",
       "      <td>1701.619995</td>\n",
       "      <td>1702.390015</td>\n",
       "      <td>1686.449951</td>\n",
       "      <td>1690.619995</td>\n",
       "      <td>1690.619995</td>\n",
       "      <td>408900.0</td>\n",
       "      <td>0.021871</td>\n",
       "      <td>0.015891</td>\n",
       "      <td>1.0</td>\n",
       "    </tr>\n",
       "    <tr>\n",
       "      <th>2010-01-06</th>\n",
       "      <td>16580.0</td>\n",
       "      <td>16820.0</td>\n",
       "      <td>16520.0</td>\n",
       "      <td>16820.0</td>\n",
       "      <td>12760.111328</td>\n",
       "      <td>22948850</td>\n",
       "      <td>1697.880005</td>\n",
       "      <td>1706.890015</td>\n",
       "      <td>1696.099976</td>\n",
       "      <td>1705.319946</td>\n",
       "      <td>1705.319946</td>\n",
       "      <td>426000.0</td>\n",
       "      <td>0.032364</td>\n",
       "      <td>0.010714</td>\n",
       "      <td>1.0</td>\n",
       "    </tr>\n",
       "    <tr>\n",
       "      <th>2010-01-07</th>\n",
       "      <td>16820.0</td>\n",
       "      <td>16820.0</td>\n",
       "      <td>16260.0</td>\n",
       "      <td>16260.0</td>\n",
       "      <td>12335.281250</td>\n",
       "      <td>22107950</td>\n",
       "      <td>1702.920044</td>\n",
       "      <td>1707.900024</td>\n",
       "      <td>1683.449951</td>\n",
       "      <td>1683.449951</td>\n",
       "      <td>1683.449951</td>\n",
       "      <td>462400.0</td>\n",
       "      <td>0.067715</td>\n",
       "      <td>0.025920</td>\n",
       "      <td>0.0</td>\n",
       "    </tr>\n",
       "    <tr>\n",
       "      <th>2010-01-08</th>\n",
       "      <td>16400.0</td>\n",
       "      <td>16420.0</td>\n",
       "      <td>16120.0</td>\n",
       "      <td>16420.0</td>\n",
       "      <td>12456.663086</td>\n",
       "      <td>14777550</td>\n",
       "      <td>1694.060059</td>\n",
       "      <td>1695.260010</td>\n",
       "      <td>1668.839966</td>\n",
       "      <td>1695.260010</td>\n",
       "      <td>1695.260010</td>\n",
       "      <td>380000.0</td>\n",
       "      <td>0.026928</td>\n",
       "      <td>0.023117</td>\n",
       "      <td>1.0</td>\n",
       "    </tr>\n",
       "    <tr>\n",
       "      <th>...</th>\n",
       "      <td>...</td>\n",
       "      <td>...</td>\n",
       "      <td>...</td>\n",
       "      <td>...</td>\n",
       "      <td>...</td>\n",
       "      <td>...</td>\n",
       "      <td>...</td>\n",
       "      <td>...</td>\n",
       "      <td>...</td>\n",
       "      <td>...</td>\n",
       "      <td>...</td>\n",
       "      <td>...</td>\n",
       "      <td>...</td>\n",
       "      <td>...</td>\n",
       "      <td>...</td>\n",
       "    </tr>\n",
       "    <tr>\n",
       "      <th>2024-03-25</th>\n",
       "      <td>79600.0</td>\n",
       "      <td>79800.0</td>\n",
       "      <td>77800.0</td>\n",
       "      <td>78200.0</td>\n",
       "      <td>77500.570312</td>\n",
       "      <td>18703996</td>\n",
       "      <td>2756.590088</td>\n",
       "      <td>2763.629883</td>\n",
       "      <td>2731.699951</td>\n",
       "      <td>2737.570068</td>\n",
       "      <td>2737.570068</td>\n",
       "      <td>489600.0</td>\n",
       "      <td>0.043120</td>\n",
       "      <td>0.018545</td>\n",
       "      <td>0.0</td>\n",
       "    </tr>\n",
       "    <tr>\n",
       "      <th>2024-03-26</th>\n",
       "      <td>79700.0</td>\n",
       "      <td>80100.0</td>\n",
       "      <td>79200.0</td>\n",
       "      <td>79900.0</td>\n",
       "      <td>79185.367188</td>\n",
       "      <td>30551494</td>\n",
       "      <td>2756.419922</td>\n",
       "      <td>2779.399902</td>\n",
       "      <td>2752.270020</td>\n",
       "      <td>2757.090088</td>\n",
       "      <td>2757.090088</td>\n",
       "      <td>448300.0</td>\n",
       "      <td>0.013797</td>\n",
       "      <td>0.013113</td>\n",
       "      <td>1.0</td>\n",
       "    </tr>\n",
       "    <tr>\n",
       "      <th>2024-03-27</th>\n",
       "      <td>79200.0</td>\n",
       "      <td>80000.0</td>\n",
       "      <td>79200.0</td>\n",
       "      <td>79800.0</td>\n",
       "      <td>79086.257812</td>\n",
       "      <td>17424595</td>\n",
       "      <td>2745.000000</td>\n",
       "      <td>2762.030029</td>\n",
       "      <td>2745.000000</td>\n",
       "      <td>2755.110107</td>\n",
       "      <td>2755.110107</td>\n",
       "      <td>510600.0</td>\n",
       "      <td>0.017599</td>\n",
       "      <td>0.009863</td>\n",
       "      <td>0.0</td>\n",
       "    </tr>\n",
       "    <tr>\n",
       "      <th>2024-03-28</th>\n",
       "      <td>79400.0</td>\n",
       "      <td>81000.0</td>\n",
       "      <td>79200.0</td>\n",
       "      <td>80800.0</td>\n",
       "      <td>80441.218750</td>\n",
       "      <td>25084812</td>\n",
       "      <td>2753.219971</td>\n",
       "      <td>2756.860107</td>\n",
       "      <td>2742.679932</td>\n",
       "      <td>2745.820068</td>\n",
       "      <td>2745.820068</td>\n",
       "      <td>419300.0</td>\n",
       "      <td>0.039950</td>\n",
       "      <td>0.007848</td>\n",
       "      <td>1.0</td>\n",
       "    </tr>\n",
       "    <tr>\n",
       "      <th>2024-03-29</th>\n",
       "      <td>81200.0</td>\n",
       "      <td>82500.0</td>\n",
       "      <td>80900.0</td>\n",
       "      <td>82400.0</td>\n",
       "      <td>82034.117188</td>\n",
       "      <td>27126366</td>\n",
       "      <td>2757.270020</td>\n",
       "      <td>2757.550049</td>\n",
       "      <td>2739.120117</td>\n",
       "      <td>2746.629883</td>\n",
       "      <td>2746.629883</td>\n",
       "      <td>495500.0</td>\n",
       "      <td>0.034251</td>\n",
       "      <td>0.010570</td>\n",
       "      <td>1.0</td>\n",
       "    </tr>\n",
       "  </tbody>\n",
       "</table>\n",
       "<p>3511 rows × 15 columns</p>\n",
       "</div>"
      ],
      "text/plain": [
       "               Open     High      Low    Close     Adj Close    Volume  \\\n",
       "Date                                                                     \n",
       "2010-01-04  16060.0  16180.0  16000.0  16180.0  12274.591797  11950800   \n",
       "2010-01-05  16520.0  16580.0  16300.0  16440.0  12471.835938  27925850   \n",
       "2010-01-06  16580.0  16820.0  16520.0  16820.0  12760.111328  22948850   \n",
       "2010-01-07  16820.0  16820.0  16260.0  16260.0  12335.281250  22107950   \n",
       "2010-01-08  16400.0  16420.0  16120.0  16420.0  12456.663086  14777550   \n",
       "...             ...      ...      ...      ...           ...       ...   \n",
       "2024-03-25  79600.0  79800.0  77800.0  78200.0  77500.570312  18703996   \n",
       "2024-03-26  79700.0  80100.0  79200.0  79900.0  79185.367188  30551494   \n",
       "2024-03-27  79200.0  80000.0  79200.0  79800.0  79086.257812  17424595   \n",
       "2024-03-28  79400.0  81000.0  79200.0  80800.0  80441.218750  25084812   \n",
       "2024-03-29  81200.0  82500.0  80900.0  82400.0  82034.117188  27126366   \n",
       "\n",
       "             kospi_Open   kospi_High    kospi_Low  kospi_Close  \\\n",
       "Date                                                             \n",
       "2010-01-04  1681.709961  1696.140015  1681.709961  1696.140015   \n",
       "2010-01-05  1701.619995  1702.390015  1686.449951  1690.619995   \n",
       "2010-01-06  1697.880005  1706.890015  1696.099976  1705.319946   \n",
       "2010-01-07  1702.920044  1707.900024  1683.449951  1683.449951   \n",
       "2010-01-08  1694.060059  1695.260010  1668.839966  1695.260010   \n",
       "...                 ...          ...          ...          ...   \n",
       "2024-03-25  2756.590088  2763.629883  2731.699951  2737.570068   \n",
       "2024-03-26  2756.419922  2779.399902  2752.270020  2757.090088   \n",
       "2024-03-27  2745.000000  2762.030029  2745.000000  2755.110107   \n",
       "2024-03-28  2753.219971  2756.860107  2742.679932  2745.820068   \n",
       "2024-03-29  2757.270020  2757.550049  2739.120117  2746.629883   \n",
       "\n",
       "            kospi_Adj Close  kospi_Volume  fluctuation  kospi_fluctuation  \\\n",
       "Date                                                                        \n",
       "2010-01-04      1696.140015      296500.0     0.018628           0.017088   \n",
       "2010-01-05      1690.619995      408900.0     0.021871           0.015891   \n",
       "2010-01-06      1705.319946      426000.0     0.032364           0.010714   \n",
       "2010-01-07      1683.449951      462400.0     0.067715           0.025920   \n",
       "2010-01-08      1695.260010      380000.0     0.026928           0.023117   \n",
       "...                     ...           ...          ...                ...   \n",
       "2024-03-25      2737.570068      489600.0     0.043120           0.018545   \n",
       "2024-03-26      2757.090088      448300.0     0.013797           0.013113   \n",
       "2024-03-27      2755.110107      510600.0     0.017599           0.009863   \n",
       "2024-03-28      2745.820068      419300.0     0.039950           0.007848   \n",
       "2024-03-29      2746.629883      495500.0     0.034251           0.010570   \n",
       "\n",
       "            label  \n",
       "Date               \n",
       "2010-01-04    0.0  \n",
       "2010-01-05    1.0  \n",
       "2010-01-06    1.0  \n",
       "2010-01-07    0.0  \n",
       "2010-01-08    1.0  \n",
       "...           ...  \n",
       "2024-03-25    0.0  \n",
       "2024-03-26    1.0  \n",
       "2024-03-27    0.0  \n",
       "2024-03-28    1.0  \n",
       "2024-03-29    1.0  \n",
       "\n",
       "[3511 rows x 15 columns]"
      ]
     },
     "execution_count": 14,
     "metadata": {},
     "output_type": "execute_result"
    }
   ],
   "source": [
    "df"
   ]
  },
  {
   "cell_type": "code",
   "execution_count": 15,
   "id": "a324cbc4",
   "metadata": {},
   "outputs": [
    {
     "data": {
      "text/plain": [
       "(3511, 15)"
      ]
     },
     "execution_count": 15,
     "metadata": {},
     "output_type": "execute_result"
    }
   ],
   "source": [
    "df.shape"
   ]
  },
  {
   "cell_type": "code",
   "execution_count": 16,
   "id": "03d12f64",
   "metadata": {},
   "outputs": [],
   "source": [
    "class NN_and_data(nn.Module):\n",
    "    def __init__(self,seq_len,batch_size,lr,input_dim,hidden_dim,hidden_dim2,hidden_dim3,hidden_dim4,output_dim,epochs,data_file\n",
    "                 ,each_epoch):\n",
    "        super(NN_and_data,self).__init__()\n",
    "        \n",
    "        self.seq_len     = seq_len\n",
    "        self.batch_size  = batch_size \n",
    "        self.input_dim   = input_dim\n",
    "        self.hidden_dim  = hidden_dim\n",
    "        self.hidden_dim2 = hidden_dim2\n",
    "        self.hidden_dim3 = hidden_dim3\n",
    "        self.hidden_dim4 = hidden_dim4\n",
    "        self.output_dim  = output_dim\n",
    "        self.datafile    = data_file\n",
    "\n",
    "\n",
    "        \n",
    "        \n",
    "        self.fc1 = nn.Linear(self.input_dim,self.hidden_dim)\n",
    "        self.fc2 = nn.Linear(self.hidden_dim,self.hidden_dim2)\n",
    "        self.fc3 = nn.Linear(self.hidden_dim2,self.hidden_dim3)\n",
    "        self.fc4 = nn.Linear(self.hidden_dim3,self.hidden_dim4)\n",
    "        self.fc5 = nn.Linear(self.hidden_dim4,self.output_dim)\n",
    "     \n",
    "        \n",
    "    def Make_window_Data(self):\n",
    "        privious_day = []\n",
    "        nextday      = []\n",
    "        scaler       = MinMaxScaler()\n",
    "        for index in range(len(self.datafile)-self.seq_len):\n",
    "\n",
    "            seq_len_data = self.datafile.iloc[index:index+seq_len,:-1]\n",
    "            next_data    = self.datafile.iloc[index+seq_len,-1]\n",
    " \n",
    "\n",
    "            sc_seq_len_data = scaler.fit_transform(seq_len_data)\n",
    "\n",
    "            privious_day.append(sc_seq_len_data)\n",
    "            nextday.append(next_data)\n",
    "        return np.array(privious_day),np.array(nextday)\n",
    "\n",
    "    def Data_and_DataLoader(self):\n",
    "        x,y      = NN_and_data.Make_window_Data(self)\n",
    "        \n",
    "        train_x,test_x,train_y,test_y =  train_test_split(x,y,test_size=0.07,shuffle=False)\n",
    "        \n",
    "        train_x = torch.FloatTensor(train_x)\n",
    "        train_y = torch.FloatTensor(train_y)\n",
    "        test_x  = torch.FloatTensor(test_x)\n",
    "        test_y  = torch.FloatTensor(test_y)\n",
    "        Train_datasets  = TensorDataset(train_x,train_y)\n",
    "        Test_datasets  = TensorDataset(test_x,test_y)\n",
    "        \n",
    "\n",
    "            \n",
    "        Train_Data_Loader = torch.utils.data.DataLoader(dataset=Train_datasets,batch_size = self.batch_size,\n",
    "                                                        shuffle = False)\n",
    "        Test_Data_Loader = torch.utils.data.DataLoader(dataset=Test_datasets,batch_size = self.batch_size,\n",
    "                                                        shuffle = False)\n",
    "        return Train_Data_Loader,Test_Data_Loader,test_x,test_y\n",
    "\n",
    "            \n",
    "        \n",
    "\n",
    "    def forward(self,x):\n",
    "\n",
    "        x = x.view(x.size(0),-1)\n",
    "#         print(x.size())\n",
    "        x = self.fc1(x)\n",
    "        x = F.relu(x)\n",
    "        x = self.fc2(x)\n",
    "        x = F.relu(x)\n",
    "        x = self.fc3(x)\n",
    "        x = F.relu(x)\n",
    "        x = self.fc4(x)\n",
    "        x = F.relu(x)\n",
    "        x = self.fc5(x)\n",
    "        x = F.sigmoid(x)\n",
    "        return x\n",
    "    \n",
    "    "
   ]
  },
  {
   "cell_type": "code",
   "execution_count": 17,
   "id": "8a2c93ab",
   "metadata": {},
   "outputs": [],
   "source": [
    "class Train_Predict():\n",
    "    \n",
    "    def __init__(self,epochs,data_file,each_epoch,seq_len,Data_Loader,criterion):\n",
    "        \n",
    "        super(Train_Predict,self).__init__()\n",
    "        \n",
    "        self.each_epoch  = each_epoch\n",
    "        self.lr          = lr\n",
    "        self.epochs      = epochs\n",
    "        self.seq_len     = seq_len\n",
    "        self.Data_Loader = Data_Loader \n",
    "        self.criterion   = criterion \n",
    "        \n",
    "    def Training(self):\n",
    "\n",
    "        optimizer = optim.Adam(model.parameters(),lr=self.lr)\n",
    "        model.train()\n",
    "\n",
    "        loss_list = np.zeros(self.epochs)\n",
    "        check_point = 0\n",
    "        for i in notebook.tqdm(range(self.epochs)):\n",
    "            \n",
    "            avg_loss = 0\n",
    "            length   = len(self.Data_Loader)\n",
    "\n",
    "            for data,target in self.Data_Loader:\n",
    "\n",
    "                target      = target.view(-1,1)\n",
    "#                 data,target = data.to(device),target.to(device)\n",
    "\n",
    "                optimizer.zero_grad()\n",
    "\n",
    "                output = model(data)\n",
    "                \n",
    "#                 print(output)\n",
    "                loss   = self.criterion(output,target)\n",
    "                loss.backward()\n",
    "                optimizer.step()\n",
    "                avg_loss += loss.item()/length\n",
    "                loss_list[i]  = avg_loss\n",
    "\n",
    "                \n",
    "            if i%self.each_epoch == 0 and i!=0:\n",
    "                \n",
    "#                 print(i,avg_loss)\n",
    "                \n",
    "#                 torch.save({'model':'model','epoch':self.epochs,\n",
    "#                            'model_state_dict':model.state_dict(),\n",
    "#                            'optimzer_state_dict':optimizer.state_dict(),\n",
    "#                            'avg_loss':avg_loss,\n",
    "#                            'check_point':f'custommodel_check_point - {check_point}'\n",
    "#                            },f'./save/model_{seq_len}_splited_samsung-{check_point}_hidden.pt')\n",
    "#                 check_point +=1 \n",
    "                \n",
    "                if loss_list[i-each_epoch]<loss_list[i]:\n",
    "                    \n",
    "                    torch.save({'model':'model','epoch':self.epochs,\n",
    "                   'model_state_dict':model.state_dict(),\n",
    "                   'optimzer_state_dict':optimizer.state_dict(),\n",
    "                   'loss_list':loss_list,\n",
    "                   },f'./save/model_{seq_len}_splited_samsung_hidden_kospi.pt')\n",
    "                    break \n",
    "#         torch.save(model,f'./{model}_{seq_len}_splited_apple.pt')\n",
    "        torch.save({'model':'model','epoch':self.epochs,\n",
    "               'model_state_dict':model.state_dict(),\n",
    "               'optimzer_state_dict':optimizer.state_dict(),\n",
    "               'loss_list':loss_list,\n",
    "               },f'./save/model_{seq_len}_splited_samsung_hidden_kospi.pt')\n",
    "\n",
    "        return loss_list\n",
    "\n",
    "#     def predict(self):\n",
    "\n",
    "#         model.eval().to(device)\n",
    "#         test_loss = 0\n",
    "#         correct   =0\n",
    "\n",
    "#         with torch.no_grad():\n",
    "\n",
    "#             for index,(data,label) in enumerate(self.Data_Loader):\n",
    "\n",
    "#                 data=data.to(device)\n",
    "#                 label=label.to(device).view(-1,1)\n",
    "\n",
    "#                 output     = model(data)\n",
    "#                 test_loss += criterion(output,label).item()\n",
    "#                 pred       = torch.where(output<0.5,0,1)\n",
    "\n",
    "\n",
    "#                 correct += pred.eq(label.view_as(pred)).sum().item()\n",
    "\n",
    "#         accuracy = (100 * correct)/len(self.Data_Loader.dataset)\n",
    "        \n",
    "    def predict(self):\n",
    "\n",
    "        model.eval().to('cpu')\n",
    "        test_loss = 0\n",
    "        correct   = 0 \n",
    "        pred_list = []\n",
    "        with torch.no_grad():\n",
    "\n",
    "#             test_x=test_x.to(device)\n",
    "#             test_y=test_y.to(device).view(-1,1)\n",
    "            output     = model(test_x)\n",
    "#             test_loss += criterion(test_x,test_y).item()\n",
    "            pred       = torch.where(output<0.5,0,1)\n",
    "\n",
    "\n",
    "            correct    += pred.eq(test_y.view_as(pred)).sum().item()\n",
    "#             pred_list.append((np.array(pred)).item())\n",
    "            pred_nump = pred.squeeze().numpy()\n",
    "        accuracy = (100 * correct)/len(self.Data_Loader.dataset)    \n",
    "    \n",
    "        return accuracy,pred_nump"
   ]
  },
  {
   "cell_type": "code",
   "execution_count": 18,
   "id": "c0e3fbc0",
   "metadata": {},
   "outputs": [],
   "source": [
    "# def predict(self):\n",
    "    \n",
    "#     model.eval().to(device)\n",
    "#     test_loss = 0\n",
    "#     correct   =0\n",
    "\n",
    "\n",
    "#     with torch.no_grad():\n",
    "\n",
    "      \n",
    "\n",
    "#     data=data.to(device)\n",
    "#     label=label.to(device).view(-1,1)\n",
    "\n",
    "#     output     = model(data)\n",
    "#     test_loss += criterion(output,label).item()\n",
    "#     pred       = torch.where(output<0.5,0,1)\n",
    "\n",
    "\n",
    "#     correct += pred.eq(label.view_as(pred)).sum().item()\n",
    "\n",
    "#     accuracy = (100 * correct)/len(self.Data_Loader.dataset)"
   ]
  },
  {
   "cell_type": "code",
   "execution_count": 19,
   "id": "866cfaed",
   "metadata": {},
   "outputs": [],
   "source": [
    "seq_len      = 3\n",
    "batch_size   = 16\n",
    "input_dim    = seq_len*2\n",
    "hidden_dim   = 200\n",
    "hidden_dim2  = 400\n",
    "hidden_dim3  = 600\n",
    "hidden_dim4  = 300\n",
    "output_dim   = 1\n",
    "lr           = 1e-4\n",
    "epochs       = 10000\n",
    "each_epoch   = 100\n",
    "data_file    = df\n",
    "title_number = 2 \n",
    "criterion = nn.BCELoss()"
   ]
  },
  {
   "cell_type": "code",
   "execution_count": null,
   "id": "1a8e3019",
   "metadata": {},
   "outputs": [],
   "source": []
  },
  {
   "cell_type": "code",
   "execution_count": 20,
   "id": "112b9be1",
   "metadata": {},
   "outputs": [
    {
     "data": {
      "application/vnd.jupyter.widget-view+json": {
       "model_id": "d038e09ca13d4b02a4f9429870e5e80f",
       "version_major": 2,
       "version_minor": 0
      },
      "text/plain": [
       "  0%|          | 0/10000 [00:00<?, ?it/s]"
      ]
     },
     "metadata": {},
     "output_type": "display_data"
    },
    {
     "data": {
      "image/png": "[encoded data removed]",
      "text/plain": [
       "<Figure size 640x480 with 1 Axes>"
      ]
     },
     "metadata": {},
     "output_type": "display_data"
    },
    {
     "data": {
      "application/vnd.jupyter.widget-view+json": {
       "model_id": "e3b69c295029402897a1fb4abe9bb5b2",
       "version_major": 2,
       "version_minor": 0
      },
      "text/plain": [
       "  0%|          | 0/10000 [00:00<?, ?it/s]"
      ]
     },
     "metadata": {},
     "output_type": "display_data"
    },
    {
     "data": {
      "image/png": "[encoded data removed]",
      "text/plain": [
       "<Figure size 640x480 with 1 Axes>"
      ]
     },
     "metadata": {},
     "output_type": "display_data"
    },
    {
     "data": {
      "application/vnd.jupyter.widget-view+json": {
       "model_id": "c04cff66b7bd44d4a639d85726f0d380",
       "version_major": 2,
       "version_minor": 0
      },
      "text/plain": [
       "  0%|          | 0/10000 [00:00<?, ?it/s]"
      ]
     },
     "metadata": {},
     "output_type": "display_data"
    },
    {
     "data": {
      "image/png": "[encoded data removed]",
      "text/plain": [
       "<Figure size 640x480 with 1 Axes>"
      ]
     },
     "metadata": {},
     "output_type": "display_data"
    },
    {
     "data": {
      "application/vnd.jupyter.widget-view+json": {
       "model_id": "2d1d2211b2c142c8b1e97637a897af78",
       "version_major": 2,
       "version_minor": 0
      },
      "text/plain": [
       "  0%|          | 0/10000 [00:00<?, ?it/s]"
      ]
     },
     "metadata": {},
     "output_type": "display_data"
    },
    {
     "data": {
      "image/png": "[encoded data removed]",
      "text/plain": [
       "<Figure size 640x480 with 1 Axes>"
      ]
     },
     "metadata": {},
     "output_type": "display_data"
    },
    {
     "data": {
      "application/vnd.jupyter.widget-view+json": {
       "model_id": "4bbd0c47a04c46259972591c3863ec32",
       "version_major": 2,
       "version_minor": 0
      },
      "text/plain": [
       "  0%|          | 0/10000 [00:00<?, ?it/s]"
      ]
     },
     "metadata": {},
     "output_type": "display_data"
    },
    {
     "data": {
      "image/png": "[encoded data removed]",
      "text/plain": [
       "<Figure size 640x480 with 1 Axes>"
      ]
     },
     "metadata": {},
     "output_type": "display_data"
    },
    {
     "data": {
      "application/vnd.jupyter.widget-view+json": {
       "model_id": "106fe4c665bc425e9f5f419559a33a43",
       "version_major": 2,
       "version_minor": 0
      },
      "text/plain": [
       "  0%|          | 0/10000 [00:00<?, ?it/s]"
      ]
     },
     "metadata": {},
     "output_type": "display_data"
    },
    {
     "data": {
      "image/png": "[encoded data removed]",
      "text/plain": [
       "<Figure size 640x480 with 1 Axes>"
      ]
     },
     "metadata": {},
     "output_type": "display_data"
    },
    {
     "data": {
      "application/vnd.jupyter.widget-view+json": {
       "model_id": "d7755f7c97384a8db62c5fa5810c3b9b",
       "version_major": 2,
       "version_minor": 0
      },
      "text/plain": [
       "  0%|          | 0/10000 [00:00<?, ?it/s]"
      ]
     },
     "metadata": {},
     "output_type": "display_data"
    },
    {
     "data": {
      "image/png": "[encoded data removed]",
      "text/plain": [
       "<Figure size 640x480 with 1 Axes>"
      ]
     },
     "metadata": {},
     "output_type": "display_data"
    },
    {
     "data": {
      "application/vnd.jupyter.widget-view+json": {
       "model_id": "d2c8ef3d73d34031883bf203d4005555",
       "version_major": 2,
       "version_minor": 0
      },
      "text/plain": [
       "  0%|          | 0/10000 [00:00<?, ?it/s]"
      ]
     },
     "metadata": {},
     "output_type": "display_data"
    },
    {
     "data": {
      "image/png": "[encoded data removed]",
      "text/plain": [
       "<Figure size 640x480 with 1 Axes>"
      ]
     },
     "metadata": {},
     "output_type": "display_data"
    },
    {
     "data": {
      "application/vnd.jupyter.widget-view+json": {
       "model_id": "8c71ce0db31f49a78a1cb71c29aa3e9a",
       "version_major": 2,
       "version_minor": 0
      },
      "text/plain": [
       "  0%|          | 0/10000 [00:00<?, ?it/s]"
      ]
     },
     "metadata": {},
     "output_type": "display_data"
    },
    {
     "data": {
      "image/png": "[encoded data removed]",
      "text/plain": [
       "<Figure size 640x480 with 1 Axes>"
      ]
     },
     "metadata": {},
     "output_type": "display_data"
    },
    {
     "data": {
      "application/vnd.jupyter.widget-view+json": {
       "model_id": "6942deec25a346e499e0a9cd10435ba4",
       "version_major": 2,
       "version_minor": 0
      },
      "text/plain": [
       "  0%|          | 0/10000 [00:00<?, ?it/s]"
      ]
     },
     "metadata": {},
     "output_type": "display_data"
    },
    {
     "data": {
      "image/png": "[encoded data removed]",
      "text/plain": [
       "<Figure size 640x480 with 1 Axes>"
      ]
     },
     "metadata": {},
     "output_type": "display_data"
    },
    {
     "data": {
      "application/vnd.jupyter.widget-view+json": {
       "model_id": "eecc105f11724e4cbd940b594c9000c5",
       "version_major": 2,
       "version_minor": 0
      },
      "text/plain": [
       "  0%|          | 0/10000 [00:00<?, ?it/s]"
      ]
     },
     "metadata": {},
     "output_type": "display_data"
    },
    {
     "data": {
      "image/png": "[encoded data removed]",
      "text/plain": [
       "<Figure size 640x480 with 1 Axes>"
      ]
     },
     "metadata": {},
     "output_type": "display_data"
    }
   ],
   "source": [
    "\n",
    "seq_list = np.arange(3,14)\n",
    "accuracy_list = []\n",
    "pred_dic = {}\n",
    "for i in seq_list:\n",
    "    seq_len = i \n",
    "#     print(seq_len)\n",
    "    input_dim = 7*title_number*i\n",
    "    \n",
    "    model = NN_and_data(seq_len,batch_size,lr,input_dim,hidden_dim,hidden_dim2,hidden_dim3,hidden_dim4,output_dim,epochs,data_file\n",
    "                 ,each_epoch)\n",
    "    \n",
    "    Train_Data_Loader,Test_Data_Loader,test_x,test_y = model.Data_and_DataLoader()\n",
    "\n",
    "    train_tool = Train_Predict(epochs,data_file,each_epoch,seq_len,Train_Data_Loader,criterion)\n",
    "    loss = train_tool.Training()\n",
    "    plt.plot(loss)\n",
    "    plt.title(f'{i}')\n",
    "    plt.show()\n",
    "    \n",
    "    test_tool = Train_Predict(epochs,data_file,each_epoch,seq_len,Test_Data_Loader,criterion)\n",
    "    \n",
    "    accuracy,pred_numpy = test_tool.predict()\n",
    "\n",
    "    pred_dic[i] = pred_numpy\n",
    "    accuracy_list.append(accuracy)\n",
    "torch.save(pred_dic,f'pred_samsung_hidden_1')"
   ]
  },
  {
   "cell_type": "code",
   "execution_count": 23,
   "id": "a8f67002",
   "metadata": {},
   "outputs": [],
   "source": [
    "seq_len=np.arange(3,14)"
   ]
  },
  {
   "cell_type": "code",
   "execution_count": 24,
   "id": "b6139748",
   "metadata": {},
   "outputs": [
    {
     "data": {
      "image/png": "[encoded data removed]",
      "text/plain": [
       "<Figure size 640x480 with 1 Axes>"
      ]
     },
     "metadata": {},
     "output_type": "display_data"
    }
   ],
   "source": [
    "plt.plot(seq_list,accuracy_list)\n",
    "for i in range(len(accuracy_list)):\n",
    "    height = round(accuracy_list[i],2)\n",
    "    plt.text (seq_len[i],height,height, ha='center', va='bottom')\n",
    "plt.title('samsung prediction')\n",
    "plt.xlabel('window size')\n",
    "plt.ylabel('probability ')\n",
    "plt.show()"
   ]
  },
  {
   "cell_type": "code",
   "execution_count": null,
   "id": "67626295",
   "metadata": {},
   "outputs": [],
   "source": []
  }
 ],
 "metadata": {
  "accelerator": "GPU",
  "colab": {
   "gpuType": "L4",
   "machine_shape": "hm",
   "provenance": []
  },
  "kernelspec": {
   "display_name": "Python 3 (ipykernel)",
   "language": "python",
   "name": "python3"
  },
  "language_info": {
   "codemirror_mode": {
    "name": "ipython",
    "version": 3
   },
   "file_extension": ".py",
   "mimetype": "text/x-python",
   "name": "python",
   "nbconvert_exporter": "python",
   "pygments_lexer": "ipython3",
   "version": "3.11.5"
  },
  "widgets": {
   "application/vnd.jupyter.widget-state+json": {
    "4d81f8a0511847638b9e9bbddcd2d944": {
     "model_module": "@jupyter-widgets/base",
     "model_module_version": "1.2.0",
     "model_name": "LayoutModel",
     "state": {
      "_model_module": "@jupyter-widgets/base",
      "_model_module_version": "1.2.0",
      "_model_name": "LayoutModel",
      "_view_count": null,
      "_view_module": "@jupyter-widgets/base",
      "_view_module_version": "1.2.0",
      "_view_name": "LayoutView",
      "align_content": null,
      "align_items": null,
      "align_self": null,
      "border": null,
      "bottom": null,
      "display": null,
      "flex": null,
      "flex_flow": null,
      "grid_area": null,
      "grid_auto_columns": null,
      "grid_auto_flow": null,
      "grid_auto_rows": null,
      "grid_column": null,
      "grid_gap": null,
      "grid_row": null,
      "grid_template_areas": null,
      "grid_template_columns": null,
      "grid_template_rows": null,
      "height": null,
      "justify_content": null,
      "justify_items": null,
      "left": null,
      "margin": null,
      "max_height": null,
      "max_width": null,
      "min_height": null,
      "min_width": null,
      "object_fit": null,
      "object_position": null,
      "order": null,
      "overflow": null,
      "overflow_x": null,
      "overflow_y": null,
      "padding": null,
      "right": null,
      "top": null,
      "visibility": null,
      "width": null
     }
    },
    "501aa7c0bb6e4f7e88c1c662621b8eb9": {
     "model_module": "@jupyter-widgets/base",
     "model_module_version": "1.2.0",
     "model_name": "LayoutModel",
     "state": {
      "_model_module": "@jupyter-widgets/base",
      "_model_module_version": "1.2.0",
      "_model_name": "LayoutModel",
      "_view_count": null,
      "_view_module": "@jupyter-widgets/base",
      "_view_module_version": "1.2.0",
      "_view_name": "LayoutView",
      "align_content": null,
      "align_items": null,
      "align_self": null,
      "border": null,
      "bottom": null,
      "display": null,
      "flex": null,
      "flex_flow": null,
      "grid_area": null,
      "grid_auto_columns": null,
      "grid_auto_flow": null,
      "grid_auto_rows": null,
      "grid_column": null,
      "grid_gap": null,
      "grid_row": null,
      "grid_template_areas": null,
      "grid_template_columns": null,
      "grid_template_rows": null,
      "height": null,
      "justify_content": null,
      "justify_items": null,
      "left": null,
      "margin": null,
      "max_height": null,
      "max_width": null,
      "min_height": null,
      "min_width": null,
      "object_fit": null,
      "object_position": null,
      "order": null,
      "overflow": null,
      "overflow_x": null,
      "overflow_y": null,
      "padding": null,
      "right": null,
      "top": null,
      "visibility": null,
      "width": null
     }
    },
    "9022b3a936f246c2ac74741495b99012": {
     "model_module": "@jupyter-widgets/controls",
     "model_module_version": "1.5.0",
     "model_name": "FloatProgressModel",
     "state": {
      "_dom_classes": [],
      "_model_module": "@jupyter-widgets/controls",
      "_model_module_version": "1.5.0",
      "_model_name": "FloatProgressModel",
      "_view_count": null,
      "_view_module": "@jupyter-widgets/controls",
      "_view_module_version": "1.5.0",
      "_view_name": "ProgressView",
      "bar_style": "success",
      "description": "",
      "description_tooltip": null,
      "layout": "IPY_MODEL_501aa7c0bb6e4f7e88c1c662621b8eb9",
      "max": 30,
      "min": 0,
      "orientation": "horizontal",
      "style": "IPY_MODEL_caa2badd175541ccb5f4a4dcc70b471b",
      "value": 30
     }
    },
    "aa03f15504004caea1e2b447cdaaa6a1": {
     "model_module": "@jupyter-widgets/controls",
     "model_module_version": "1.5.0",
     "model_name": "DescriptionStyleModel",
     "state": {
      "_model_module": "@jupyter-widgets/controls",
      "_model_module_version": "1.5.0",
      "_model_name": "DescriptionStyleModel",
      "_view_count": null,
      "_view_module": "@jupyter-widgets/base",
      "_view_module_version": "1.2.0",
      "_view_name": "StyleView",
      "description_width": ""
     }
    },
    "b8e521d6193f43269ad2038548bf0ee1": {
     "model_module": "@jupyter-widgets/controls",
     "model_module_version": "1.5.0",
     "model_name": "HTMLModel",
     "state": {
      "_dom_classes": [],
      "_model_module": "@jupyter-widgets/controls",
      "_model_module_version": "1.5.0",
      "_model_name": "HTMLModel",
      "_view_count": null,
      "_view_module": "@jupyter-widgets/controls",
      "_view_module_version": "1.5.0",
      "_view_name": "HTMLView",
      "description": "",
      "description_tooltip": null,
      "layout": "IPY_MODEL_4d81f8a0511847638b9e9bbddcd2d944",
      "placeholder": "​",
      "style": "IPY_MODEL_aa03f15504004caea1e2b447cdaaa6a1",
      "value": " 30/30 [00:04&lt;00:00,  6.98it/s]"
     }
    },
    "ba1138326be0444aac0a861a80369b1a": {
     "model_module": "@jupyter-widgets/base",
     "model_module_version": "1.2.0",
     "model_name": "LayoutModel",
     "state": {
      "_model_module": "@jupyter-widgets/base",
      "_model_module_version": "1.2.0",
      "_model_name": "LayoutModel",
      "_view_count": null,
      "_view_module": "@jupyter-widgets/base",
      "_view_module_version": "1.2.0",
      "_view_name": "LayoutView",
      "align_content": null,
      "align_items": null,
      "align_self": null,
      "border": null,
      "bottom": null,
      "display": null,
      "flex": null,
      "flex_flow": null,
      "grid_area": null,
      "grid_auto_columns": null,
      "grid_auto_flow": null,
      "grid_auto_rows": null,
      "grid_column": null,
      "grid_gap": null,
      "grid_row": null,
      "grid_template_areas": null,
      "grid_template_columns": null,
      "grid_template_rows": null,
      "height": null,
      "justify_content": null,
      "justify_items": null,
      "left": null,
      "margin": null,
      "max_height": null,
      "max_width": null,
      "min_height": null,
      "min_width": null,
      "object_fit": null,
      "object_position": null,
      "order": null,
      "overflow": null,
      "overflow_x": null,
      "overflow_y": null,
      "padding": null,
      "right": null,
      "top": null,
      "visibility": null,
      "width": null
     }
    },
    "bc7e834a24024f14a104b3ada7970311": {
     "model_module": "@jupyter-widgets/controls",
     "model_module_version": "1.5.0",
     "model_name": "HBoxModel",
     "state": {
      "_dom_classes": [],
      "_model_module": "@jupyter-widgets/controls",
      "_model_module_version": "1.5.0",
      "_model_name": "HBoxModel",
      "_view_count": null,
      "_view_module": "@jupyter-widgets/controls",
      "_view_module_version": "1.5.0",
      "_view_name": "HBoxView",
      "box_style": "",
      "children": [
       "IPY_MODEL_f57bb76782d043e3aaf31eefe7ca90c5",
       "IPY_MODEL_9022b3a936f246c2ac74741495b99012",
       "IPY_MODEL_b8e521d6193f43269ad2038548bf0ee1"
      ],
      "layout": "IPY_MODEL_ba1138326be0444aac0a861a80369b1a"
     }
    },
    "c1b0d1def7b94c81a908feefa1b13651": {
     "model_module": "@jupyter-widgets/base",
     "model_module_version": "1.2.0",
     "model_name": "LayoutModel",
     "state": {
      "_model_module": "@jupyter-widgets/base",
      "_model_module_version": "1.2.0",
      "_model_name": "LayoutModel",
      "_view_count": null,
      "_view_module": "@jupyter-widgets/base",
      "_view_module_version": "1.2.0",
      "_view_name": "LayoutView",
      "align_content": null,
      "align_items": null,
      "align_self": null,
      "border": null,
      "bottom": null,
      "display": null,
      "flex": null,
      "flex_flow": null,
      "grid_area": null,
      "grid_auto_columns": null,
      "grid_auto_flow": null,
      "grid_auto_rows": null,
      "grid_column": null,
      "grid_gap": null,
      "grid_row": null,
      "grid_template_areas": null,
      "grid_template_columns": null,
      "grid_template_rows": null,
      "height": null,
      "justify_content": null,
      "justify_items": null,
      "left": null,
      "margin": null,
      "max_height": null,
      "max_width": null,
      "min_height": null,
      "min_width": null,
      "object_fit": null,
      "object_position": null,
      "order": null,
      "overflow": null,
      "overflow_x": null,
      "overflow_y": null,
      "padding": null,
      "right": null,
      "top": null,
      "visibility": null,
      "width": null
     }
    },
    "caa2badd175541ccb5f4a4dcc70b471b": {
     "model_module": "@jupyter-widgets/controls",
     "model_module_version": "1.5.0",
     "model_name": "ProgressStyleModel",
     "state": {
      "_model_module": "@jupyter-widgets/controls",
      "_model_module_version": "1.5.0",
      "_model_name": "ProgressStyleModel",
      "_view_count": null,
      "_view_module": "@jupyter-widgets/base",
      "_view_module_version": "1.2.0",
      "_view_name": "StyleView",
      "bar_color": null,
      "description_width": ""
     }
    },
    "f1d7f8966d4c4c2a94bd609e63e39d31": {
     "model_module": "@jupyter-widgets/controls",
     "model_module_version": "1.5.0",
     "model_name": "DescriptionStyleModel",
     "state": {
      "_model_module": "@jupyter-widgets/controls",
      "_model_module_version": "1.5.0",
      "_model_name": "DescriptionStyleModel",
      "_view_count": null,
      "_view_module": "@jupyter-widgets/base",
      "_view_module_version": "1.2.0",
      "_view_name": "StyleView",
      "description_width": ""
     }
    },
    "f57bb76782d043e3aaf31eefe7ca90c5": {
     "model_module": "@jupyter-widgets/controls",
     "model_module_version": "1.5.0",
     "model_name": "HTMLModel",
     "state": {
      "_dom_classes": [],
      "_model_module": "@jupyter-widgets/controls",
      "_model_module_version": "1.5.0",
      "_model_name": "HTMLModel",
      "_view_count": null,
      "_view_module": "@jupyter-widgets/controls",
      "_view_module_version": "1.5.0",
      "_view_name": "HTMLView",
      "description": "",
      "description_tooltip": null,
      "layout": "IPY_MODEL_c1b0d1def7b94c81a908feefa1b13651",
      "placeholder": "​",
      "style": "IPY_MODEL_f1d7f8966d4c4c2a94bd609e63e39d31",
      "value": "100%"
     }
    }
   }
  }
 },
 "nbformat": 4,
 "nbformat_minor": 5
}
