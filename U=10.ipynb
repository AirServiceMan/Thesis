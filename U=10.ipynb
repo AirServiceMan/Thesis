{
 "cells": [
  {
   "cell_type": "code",
   "execution_count": 1,
   "id": "3a5fd1cd",
   "metadata": {},
   "outputs": [],
   "source": [
    "import numpy as np\n",
    "import torch\n",
    "from torch.utils.data import Dataset,DataLoader,random_split,TensorDataset\n",
    "import torch.nn as nn\n",
    "import torch.nn.functional as F\n",
    "from tqdm import notebook \n",
    "import matplotlib.pyplot as plt\n",
    "import time\n",
    "import os\n",
    "import pickle \n",
    "from sklearn.preprocessing import MinMaxScaler,StandardScaler"
   ]
  },
  {
   "cell_type": "code",
   "execution_count": 2,
   "id": "38ccacb0",
   "metadata": {},
   "outputs": [],
   "source": [
    "device = 'mps:0' if torch.backends.mps.is_available else 'cpu'"
   ]
  },
  {
   "cell_type": "code",
   "execution_count": 3,
   "id": "69dcafca",
   "metadata": {},
   "outputs": [
    {
     "data": {
      "text/plain": [
       "'/Users/hwanghyeonseog/졸업학위논문 관련 코딩 /Hubbard_model /Old data'"
      ]
     },
     "execution_count": 3,
     "metadata": {},
     "output_type": "execute_result"
    }
   ],
   "source": [
    "os.path.abspath('.')"
   ]
  },
  {
   "cell_type": "code",
   "execution_count": 4,
   "id": "f9800dc7",
   "metadata": {},
   "outputs": [],
   "source": [
    "# with open('/Users/hwanghyeonseog/Desktop/Hubbard_old_data/U10D2-40/U10D2-40/U10_Delta2/phi_U10_D2.npy', 'rb') as file:\n",
    "#     del2= pickle.load(file)\n",
    "# with open('/Users/hwanghyeonseog/Desktop/Hubbard_old_data/U10D2-40/U10D2-40/phi_U10_D40', 'rb') as file:\n",
    "#     del40= pickle.load(file)"
   ]
  },
  {
   "cell_type": "code",
   "execution_count": 5,
   "id": "513432b7",
   "metadata": {},
   "outputs": [],
   "source": [
    "def MinMaxscaling(data):\n",
    "    scaling_data = (data - np.min(data))/(np.max(data)-np.min(data))\n",
    "    return scaling_data"
   ]
  },
  {
   "cell_type": "code",
   "execution_count": 6,
   "id": "8845b47f",
   "metadata": {},
   "outputs": [],
   "source": [
    "d2  = np.load('/Users/hwanghyeonseog/Desktop/Hubbard_old_data/L20/L20_nmax15_U10_T0_1/phi_lstD1.npy')\n",
    "d10 = np.load('/Users/hwanghyeonseog/Desktop/Hubbard_old_data/L20/L20_nmax15_U10_T0_1/phi_lstD10.npy')"
   ]
  },
  {
   "cell_type": "code",
   "execution_count": 7,
   "id": "dad1d599",
   "metadata": {},
   "outputs": [],
   "source": [
    "# scaler = MinMaxScaler()\n",
    "\n",
    "# scaler.fit(del2)\n",
    "# scaler.fit(del40)\n",
    "\n",
    "# scaling_U2  = scaler.transform(del2)\n",
    "# scaling_U40 = scaler.transform(del40)\n",
    "\n",
    "scaling_d2  = MinMaxscaling(d2)\n",
    "scaling_d10 = MinMaxscaling(d10)"
   ]
  },
  {
   "cell_type": "code",
   "execution_count": 8,
   "id": "2bb10590",
   "metadata": {},
   "outputs": [],
   "source": [
    "reshape_d2  = scaling_d2.reshape(10000,1,20,20)\n",
    "reshape_d10 = scaling_d10.reshape(10000,1,20,20)"
   ]
  },
  {
   "cell_type": "code",
   "execution_count": 9,
   "id": "5635f6e3",
   "metadata": {},
   "outputs": [
    {
     "data": {
      "text/plain": [
       "<matplotlib.image.AxesImage at 0x31a7fafd0>"
      ]
     },
     "execution_count": 9,
     "metadata": {},
     "output_type": "execute_result"
    },
    {
     "data": {
      "image/png": "[encoded data removed]",
      "text/plain": [
       "<Figure size 640x480 with 1 Axes>"
      ]
     },
     "metadata": {},
     "output_type": "display_data"
    }
   ],
   "source": [
    "plt.imshow(reshape_d10[0][0])"
   ]
  },
  {
   "cell_type": "code",
   "execution_count": 10,
   "id": "16effe30",
   "metadata": {},
   "outputs": [],
   "source": [
    "zeros = np.zeros((10000))\n",
    "ones  = np.ones((10000))"
   ]
  },
  {
   "cell_type": "code",
   "execution_count": 11,
   "id": "432b0843",
   "metadata": {},
   "outputs": [],
   "source": [
    "train_data = np.concatenate((reshape_d2,reshape_d10))\n",
    "train_label = np.concatenate((zeros,ones))"
   ]
  },
  {
   "cell_type": "code",
   "execution_count": 12,
   "id": "e9492a50",
   "metadata": {},
   "outputs": [],
   "source": [
    "tensor_train_data = torch.FloatTensor(train_data)\n",
    "tensor_train_label = torch.FloatTensor(train_label)"
   ]
  },
  {
   "cell_type": "code",
   "execution_count": 13,
   "id": "0259e496",
   "metadata": {},
   "outputs": [],
   "source": [
    "batch = 32\n",
    "lr = 1e-5"
   ]
  },
  {
   "cell_type": "code",
   "execution_count": 14,
   "id": "2ff0bcba",
   "metadata": {},
   "outputs": [],
   "source": [
    "trainset    = TensorDataset(tensor_train_data,tensor_train_label)\n",
    "train_loader = DataLoader(dataset= trainset, batch_size = batch, shuffle = True)"
   ]
  },
  {
   "cell_type": "code",
   "execution_count": 15,
   "id": "310c9a52",
   "metadata": {},
   "outputs": [],
   "source": [
    "class CNN(nn.Module):\n",
    "    def __init__(self):\n",
    "        super(CNN, self).__init__()\n",
    "        self.conv1 = nn.Conv2d(in_channels=1,out_channels=128, kernel_size=4, stride=1)\n",
    "        self.conv2 = nn.Conv2d(in_channels=128,out_channels=256, kernel_size=4, stride=1)\n",
    "\n",
    "        self.fc1 = nn.Linear(256*14*14, 32)\n",
    "        self.fc2 = nn.Linear(32, 1)\n",
    "    \n",
    "    def forward(self, x):\n",
    "        \n",
    "\n",
    "        \n",
    "        x = F.relu(self.conv1(x))\n",
    "        \n",
    "        \n",
    "        x = F.relu(self.conv2(x))\n",
    "    \n",
    "\n",
    "#         print(\"차원 감소 후\", x.size())\n",
    "        \n",
    "\n",
    "        x = x.view(-1, 256*14*14)\n",
    "\n",
    "        x = F.relu(self.fc1(x))\n",
    "    \n",
    "        x = self.fc2(x)\n",
    "        \n",
    "        x = F.sigmoid(x)\n",
    "    \n",
    "    \n",
    "        return x"
   ]
  },
  {
   "cell_type": "code",
   "execution_count": 16,
   "id": "c13cf941",
   "metadata": {},
   "outputs": [],
   "source": [
    "model = CNN().to(device)\n",
    "optimizer = torch.optim.Adam(model.parameters(),lr=lr)\n",
    "criterion = nn.BCELoss()"
   ]
  },
  {
   "cell_type": "code",
   "execution_count": 17,
   "id": "940a98e5",
   "metadata": {},
   "outputs": [
    {
     "data": {
      "application/vnd.jupyter.widget-view+json": {
       "model_id": "4fb755427b94417b9f60d4d00dc9ece1",
       "version_major": 2,
       "version_minor": 0
      },
      "text/plain": [
       "  0%|          | 0/15 [00:00<?, ?it/s]"
      ]
     },
     "metadata": {},
     "output_type": "display_data"
    },
    {
     "data": {
      "image/png": "[encoded data removed]",
      "text/plain": [
       "<Figure size 640x480 with 1 Axes>"
      ]
     },
     "metadata": {},
     "output_type": "display_data"
    }
   ],
   "source": [
    "result = []\n",
    "epochs = 15\n",
    "\n",
    "s_t = time.time()\n",
    "for epoch in notebook.tqdm(range(epochs)):\n",
    "    running_loss = 0.0\n",
    "    num          = 0.0\n",
    "\n",
    "    for i, data in enumerate(train_loader, 0):\n",
    "        inputs, labels = data\n",
    "        # labels = labels.type(torch.LongTensor)\n",
    "        labels = labels.view(len(labels),-1)\n",
    "        inputs, labels = inputs.to(device), labels.to(device)\n",
    "        optimizer.zero_grad()\n",
    "        outputs = model(inputs)\n",
    "        loss    = criterion(outputs, labels)\n",
    "        loss.backward()\n",
    "        optimizer.step()\n",
    "        running_loss += loss.item()\n",
    "        num = num + 1.0\n",
    "        \n",
    "    result.append(running_loss / num) \n",
    "plt.plot(result)\n",
    "plt.show()\n",
    "e_t = time.time()"
   ]
  },
  {
   "cell_type": "code",
   "execution_count": 18,
   "id": "26536c3c",
   "metadata": {},
   "outputs": [],
   "source": [
    "delta_list  = [x for x in range(2,10)]\n",
    "result_list = []\n",
    "model.eval().to('cpu')\n",
    "for i in delta_list:\n",
    "    \n",
    "    data = torch.FloatTensor(MinMaxscaling(np.load(f'/Users/hwanghyeonseog/Desktop/Hubbard_old_data/L20/L20_nmax15_U10_T0_1/phi_lstD{i}.npy')))\n",
    "#     data = torch.FloatTensor(np.load(f\"phi_lstD{i}.npy\"))\n",
    "    data_ = data.view(1000,1,20,20)\n",
    "    result = model(data_)\n",
    "    result_list.append(torch.mean(result).detach().numpy())"
   ]
  },
  {
   "cell_type": "code",
   "execution_count": 27,
   "id": "9d1f1c5c",
   "metadata": {},
   "outputs": [
    {
     "data": {
      "image/png": "[encoded data removed]",
      "text/plain": [
       "<Figure size 640x480 with 1 Axes>"
      ]
     },
     "metadata": {},
     "output_type": "display_data"
    }
   ],
   "source": [
    "plt.plot(delta_list,np.round(result_list,1),marker='o')\n",
    "plt.title('U10',fontsize=15)\n",
    "plt.xlabel('Delta',fontsize=13)\n",
    "plt.ylabel('Lable',fontsize=13)\n",
    "plt.show()"
   ]
  },
  {
   "cell_type": "code",
   "execution_count": 20,
   "id": "99d5581a",
   "metadata": {},
   "outputs": [
    {
     "data": {
      "text/plain": [
       "[array(3.1645342e-08, dtype=float32),\n",
       " array(4.767606e-08, dtype=float32),\n",
       " array(8.550202e-08, dtype=float32),\n",
       " array(5.7443464e-07, dtype=float32),\n",
       " array(0.13671933, dtype=float32),\n",
       " array(0.9963007, dtype=float32),\n",
       " array(0.9999444, dtype=float32),\n",
       " array(0.9999993, dtype=float32)]"
      ]
     },
     "execution_count": 20,
     "metadata": {},
     "output_type": "execute_result"
    }
   ],
   "source": [
    "result_list"
   ]
  },
  {
   "cell_type": "code",
   "execution_count": 22,
   "id": "d01d52a3",
   "metadata": {},
   "outputs": [],
   "source": [
    "# torch.save(model,'./save/U=10,MinMax')"
   ]
  },
  {
   "cell_type": "code",
   "execution_count": null,
   "id": "1b20cda6",
   "metadata": {},
   "outputs": [],
   "source": []
  }
 ],
 "metadata": {
  "kernelspec": {
   "display_name": "Python 3 (ipykernel)",
   "language": "python",
   "name": "python3"
  },
  "language_info": {
   "codemirror_mode": {
    "name": "ipython",
    "version": 3
   },
   "file_extension": ".py",
   "mimetype": "text/x-python",
   "name": "python",
   "nbconvert_exporter": "python",
   "pygments_lexer": "ipython3",
   "version": "3.11.5"
  }
 },
 "nbformat": 4,
 "nbformat_minor": 5
}
